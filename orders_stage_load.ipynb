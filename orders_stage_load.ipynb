{
 "cells": [
  {
   "cell_type": "code",
   "execution_count": 0,
   "metadata": {
    "application/vnd.databricks.v1+cell": {
     "cellMetadata": {},
     "inputWidgets": {},
     "nuid": "fdf14ec8-3e4c-4dd2-9ddd-835f3cd914b8",
     "showTitle": false,
     "tableResultSettingsMap": {},
     "title": ""
    }
   },
   "outputs": [],
   "source": [
    "source_dir=\"/Volumes/incremental_load/default/orders_data/source/\"\n",
    "target_dir=\"/Volumes/incremental_load/default/orders_data/archive/\"\n",
    "stage_table=\"incremental_load.default.orders_stage\""
   ]
  },
  {
   "cell_type": "code",
   "execution_count": 0,
   "metadata": {
    "application/vnd.databricks.v1+cell": {
     "cellMetadata": {},
     "inputWidgets": {},
     "nuid": "f09db03e-fe32-4313-a282-57bc1520ace0",
     "showTitle": false,
     "tableResultSettingsMap": {},
     "title": ""
    }
   },
   "outputs": [],
   "source": [
    "# Read CSV file from dbfs path under staging_zn folder\n",
    "df = spark.read.csv(source_dir, header=True, inferSchema=True)"
   ]
  },
  {
   "cell_type": "code",
   "execution_count": 0,
   "metadata": {
    "application/vnd.databricks.v1+cell": {
     "cellMetadata": {},
     "inputWidgets": {},
     "nuid": "943c55ee-0f90-4358-a5ae-42415534a70f",
     "showTitle": false,
     "tableResultSettingsMap": {},
     "title": ""
    }
   },
   "outputs": [],
   "source": [
    "# Create Delta table named stage_zn if it doesn't exist and overwrite the data in stage table\n",
    "df.write.format(\"delta\").mode(\"overwrite\").saveAsTable(stage_table)"
   ]
  },
  {
   "cell_type": "code",
   "execution_count": 0,
   "metadata": {
    "application/vnd.databricks.v1+cell": {
     "cellMetadata": {},
     "inputWidgets": {},
     "nuid": "96d900ce-7dd6-42e6-9816-7ed503467eb2",
     "showTitle": false,
     "tableResultSettingsMap": {},
     "title": ""
    }
   },
   "outputs": [],
   "source": [
    "# List all files in the source directory\n",
    "files = dbutils.fs.ls(source_dir)\n",
    "\n",
    "# Iterate on the list one by one and print each file path separately\n",
    "for file in files:\n",
    "    src_path = file.path\n",
    "\n",
    "    # Construct the target path\n",
    "    target_path = target_dir + src_path.split(\"/\")[-1]\n",
    "    \n",
    "    # Move the file\n",
    "    dbutils.fs.mv(src_path, target_path)"
   ]
  }
 ],
 "metadata": {
  "application/vnd.databricks.v1+notebook": {
   "computePreferences": null,
   "dashboards": [],
   "environmentMetadata": {
    "base_environment": "",
    "environment_version": "2"
   },
   "inputWidgetPreferences": null,
   "language": "python",
   "notebookMetadata": {
    "pythonIndentUnit": 4
   },
   "notebookName": "orders_stage_load",
   "widgets": {}
  },
  "language_info": {
   "name": "python"
  }
 },
 "nbformat": 4,
 "nbformat_minor": 0
}
